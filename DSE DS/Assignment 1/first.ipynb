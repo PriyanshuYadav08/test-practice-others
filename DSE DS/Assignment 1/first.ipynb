{
 "cells": [
  {
   "cell_type": "markdown",
   "id": "9070019f",
   "metadata": {},
   "source": [
    "Assignment 1.... Practice"
   ]
  },
  {
   "cell_type": "code",
   "execution_count": 2,
   "id": "d938555f",
   "metadata": {},
   "outputs": [],
   "source": [
    "import numpy as np\n",
    "import pandas as pd\n",
    "import matplotlib.pyplot as plt\n",
    "import statsmodels.api as sm\n",
    "import seaborn as sns"
   ]
  }
 ],
 "metadata": {
  "kernelspec": {
   "display_name": ".venv (3.13.1)",
   "language": "python",
   "name": "python3"
  },
  "language_info": {
   "codemirror_mode": {
    "name": "ipython",
    "version": 3
   },
   "file_extension": ".py",
   "mimetype": "text/x-python",
   "name": "python",
   "nbconvert_exporter": "python",
   "pygments_lexer": "ipython3",
   "version": "3.13.1"
  }
 },
 "nbformat": 4,
 "nbformat_minor": 5
}
