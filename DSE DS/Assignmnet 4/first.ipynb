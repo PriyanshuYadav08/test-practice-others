{
 "cells": [
  {
   "cell_type": "markdown",
   "id": "bb4478d4",
   "metadata": {},
   "source": [
    "Naive Bayes"
   ]
  }
 ],
 "metadata": {
  "kernelspec": {
   "display_name": ".venv (3.13.1)",
   "language": "python",
   "name": "python3"
  },
  "language_info": {
   "name": "python",
   "version": "3.13.1"
  }
 },
 "nbformat": 4,
 "nbformat_minor": 5
}
