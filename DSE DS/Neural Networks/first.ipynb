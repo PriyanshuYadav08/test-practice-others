{
 "cells": [
  {
   "cell_type": "markdown",
   "id": "8f100dce",
   "metadata": {},
   "source": [
    "Neural Networks"
   ]
  },
  {
   "cell_type": "code",
   "execution_count": 7,
   "id": "de8082b5",
   "metadata": {},
   "outputs": [
    {
     "name": "stdout",
     "output_type": "stream",
     "text": [
      "1  Epoch  :\n",
      "\n",
      "0.0\t-0.49999999999999994\t-0.8\n",
      "2  Epoch  :\n",
      "\n",
      "0.0\t-0.9999999999999999\t-1.6\n",
      "3  Epoch  :\n",
      "\n",
      "1.0\t-1.0999999999999996\t-1.8\n",
      "4  Epoch  :\n",
      "\n",
      "1.0\t-1.3999999999999995\t-2.1\n",
      "5  Epoch  :\n",
      "\n",
      "2.0\t-0.9999999999999994\t-1.5\n",
      "6  Epoch  :\n",
      "\n",
      "2.0\t-0.9999999999999994\t-1.5\n",
      "Our Final weights\n",
      "2.0\t-0.9999999999999994\t-1.5\n"
     ]
    }
   ],
   "source": [
    "from typing import List\n",
    "\n",
    "def step_fxn(input: float) -> float:\n",
    "    if input > 0.0:\n",
    "        return 1.0\n",
    "    else:\n",
    "        return 0.0\n",
    "\n",
    "def single_neuron_step_fxn(\n",
    "    lambda_: float,\n",
    "    w0: float,\n",
    "    w1: float,\n",
    "    w2: float,\n",
    "    x0: float,\n",
    "    data: List[List[float]]\n",
    ") -> List[float]:\n",
    "    w_not_changed: bool = False\n",
    "    count: int = 1\n",
    "    while not w_not_changed:\n",
    "        w_not_changed = True\n",
    "        print(f\"{count}  Epoch  :\\n\")\n",
    "        for i in range(len(data)):\n",
    "            b: float = w0 * x0  # bias term\n",
    "            x1: float = data[i][0]\n",
    "            x2: float = data[i][1]\n",
    "            input_: float = b + w1 * x1 + w2 * x2\n",
    "            y: float = step_fxn(input_)  # prediction\n",
    "            d: float = data[i][2]        # target value\n",
    "            if y != d:\n",
    "                # adaptive law\n",
    "                w0 = w0 + lambda_ * (d - y) * x0\n",
    "                w1 = w1 + lambda_ * (d - y) * x1\n",
    "                w2 = w2 + lambda_ * (d - y) * x2\n",
    "                w_not_changed = False\n",
    "        count += 1\n",
    "        print(f\"{w0}\\t{w1}\\t{w2}\")\n",
    "    print(\"Our Final weights\")\n",
    "    print(f\"{w0}\\t{w1}\\t{w2}\")\n",
    "    return [w0, w1, w2]\n",
    "\n",
    "if __name__ == \"__main__\":\n",
    "    data: List[List[float]] = [\n",
    "        [0.2, 0.1, 1],\n",
    "        [0.4, 0.6, 1],\n",
    "        [0.5, 0.2, 1],\n",
    "        [0.7, 0.9, 0]\n",
    "    ]\n",
    "    single_neuron_step_fxn(1, 0, 0, 0, 1, data)"
   ]
  },
  {
   "cell_type": "code",
   "execution_count": 11,
   "id": "04187054",
   "metadata": {},
   "outputs": [
    {
     "data": {
      "image/png": "[encoded data removed]",
      "text/plain": [
       "<Figure size 640x480 with 1 Axes>"
      ]
     },
     "metadata": {},
     "output_type": "display_data"
    }
   ],
   "source": [
    "import matplotlib.pyplot as plt\n",
    "\n",
    "def single_neuron_step_fxn_with_tracking(\n",
    "    lambda_: float,\n",
    "    w0: float,\n",
    "    w1: float,\n",
    "    w2: float,\n",
    "    x0: float,\n",
    "    data: List[List[float]]\n",
    "):\n",
    "    weights_history = []\n",
    "    w_not_changed = False\n",
    "    count = 1\n",
    "    while not w_not_changed:\n",
    "        w_not_changed = True\n",
    "        for i in range(len(data)):\n",
    "            b = w0 * x0\n",
    "            x1 = data[i][0]\n",
    "            x2 = data[i][1]\n",
    "            input_ = b + w1 * x1 + w2 * x2\n",
    "            y = step_fxn(input_)\n",
    "            d = data[i][2]\n",
    "            if y != d:\n",
    "                w0 = w0 + lambda_ * (d - y) * x0\n",
    "                w1 = w1 + lambda_ * (d - y) * x1\n",
    "                w2 = w2 + lambda_ * (d - y) * x2\n",
    "                w_not_changed = False\n",
    "        weights_history.append([w0, w1, w2])\n",
    "        count += 1\n",
    "    return weights_history\n",
    "\n",
    "weights_history = single_neuron_step_fxn_with_tracking(1, 0, 0, 0, 1, data)\n",
    "weights_history = [[w0, w1, w2] for w0, w1, w2 in weights_history]\n",
    "epochs = range(1, len(weights_history) + 1)\n",
    "w0_vals = [w[0] for w in weights_history]\n",
    "w1_vals = [w[1] for w in weights_history]\n",
    "w2_vals = [w[2] for w in weights_history]\n",
    "\n",
    "plt.plot(epochs, w0_vals, label='w0')\n",
    "plt.plot(epochs, w1_vals, label='w1')\n",
    "plt.plot(epochs, w2_vals, label='w2')\n",
    "plt.xlabel('Epoch')\n",
    "plt.ylabel('Weight Value')\n",
    "plt.title('Evolution of Weights Over Epochs')\n",
    "plt.legend()\n",
    "plt.show()"
   ]
  }
 ],
 "metadata": {
  "kernelspec": {
   "display_name": ".venv (3.13.1)",
   "language": "python",
   "name": "python3"
  },
  "language_info": {
   "codemirror_mode": {
    "name": "ipython",
    "version": 3
   },
   "file_extension": ".py",
   "mimetype": "text/x-python",
   "name": "python",
   "nbconvert_exporter": "python",
   "pygments_lexer": "ipython3",
   "version": "3.13.1"
  }
 },
 "nbformat": 4,
 "nbformat_minor": 5
}
